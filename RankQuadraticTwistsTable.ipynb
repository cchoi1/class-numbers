{
 "cells": [
  {
   "cell_type": "code",
   "execution_count": 6,
   "metadata": {},
   "outputs": [
    {
     "name": "stdout",
     "output_type": "stream",
     "text": [
      "total twists =  730\n",
      "total with rank 0 =  358\n",
      "total with rank 1 =  310\n",
      "\n",
      "prop with rank 0 =  0.490410958904110\n",
      "prop with rank 1 =  0.424657534246575\n"
     ]
    }
   ],
   "source": [
    "E_coeffs = [0,0,0,0,1]\n",
    "E = EllipticCurve(E_coeffs)\n",
    "\n",
    "total = 0\n",
    "total_rank_0 = 0\n",
    "total_rank_1 = 0\n",
    "\n",
    "for D in range(0, 1200):\n",
    "    if (-1*D).is_squarefree():\n",
    "        total += 1\n",
    "\n",
    "        R.<x,y> = QQ[]\n",
    "        cubic = -1*D/4*y^2 + E_coeffs[0]*x*y - E_coeffs[2]*y - x^3 - E_coeffs[1]*x^2 - E_coeffs[3]*x - E_coeffs[4]\n",
    "        a4, a6 = WeierstrassForm(cubic, variables = [x,y])\n",
    "        ED_coeffs = [QQ(a4), QQ(a6)]\n",
    "        ED = EllipticCurve(ED_coeffs)\n",
    "        r = ED.rank(only_use_mwrank=False)\n",
    "\n",
    "        if r == 1:\n",
    "            total_rank_1 += 1\n",
    "        elif r == 0:\n",
    "            total_rank_0 += 1\n",
    "\n",
    "print('total twists = ', total)\n",
    "print('total with rank 0 = ', total_rank_0)\n",
    "print('total with rank 1 = ', total_rank_1)\n",
    "print()\n",
    "print('prop with rank 0 = ', N(total_rank_0/total))\n",
    "print('prop with rank 1 = ', N(total_rank_1/total))"
   ]
  },
  {
   "cell_type": "code",
   "execution_count": 7,
   "metadata": {},
   "outputs": [
    {
     "name": "stdout",
     "output_type": "stream",
     "text": [
      "total twists =  854\n",
      "total with rank 0 =  420\n",
      "total with rank 1 =  363\n",
      "\n",
      "prop with rank 0 =  0.491803278688525\n",
      "prop with rank 1 =  0.425058548009368\n"
     ]
    }
   ],
   "source": [
    "E_coeffs = [0,0,0,0,1]\n",
    "E = EllipticCurve(E_coeffs)\n",
    "\n",
    "total = 0\n",
    "total_rank_0 = 0\n",
    "total_rank_1 = 0\n",
    "\n",
    "for D in range(0, 1400):\n",
    "    if (-1*D).is_squarefree():\n",
    "        total += 1\n",
    "\n",
    "        R.<x,y> = QQ[]\n",
    "        cubic = -1*D/4*y^2 + E_coeffs[0]*x*y - E_coeffs[2]*y - x^3 - E_coeffs[1]*x^2 - E_coeffs[3]*x - E_coeffs[4]\n",
    "        a4, a6 = WeierstrassForm(cubic, variables = [x,y])\n",
    "        ED_coeffs = [QQ(a4), QQ(a6)]\n",
    "        ED = EllipticCurve(ED_coeffs)\n",
    "        r = ED.rank(only_use_mwrank=False)\n",
    "\n",
    "        if r == 1:\n",
    "            total_rank_1 += 1\n",
    "        elif r == 0:\n",
    "            total_rank_0 += 1\n",
    "\n",
    "print('total twists = ', total)\n",
    "print('total with rank 0 = ', total_rank_0)\n",
    "print('total with rank 1 = ', total_rank_1)\n",
    "print()\n",
    "print('prop with rank 0 = ', N(total_rank_0/total))\n",
    "print('prop with rank 1 = ', N(total_rank_1/total))"
   ]
  },
  {
   "cell_type": "code",
   "execution_count": 8,
   "metadata": {},
   "outputs": [
    {
     "name": "stdout",
     "output_type": "stream",
     "text": [
      "total twists =  977\n",
      "total with rank 0 =  482\n",
      "total with rank 1 =  413\n",
      "\n",
      "prop with rank 0 =  0.493346980552712\n",
      "prop with rank 1 =  0.422722620266121\n"
     ]
    }
   ],
   "source": [
    "E_coeffs = [0,0,0,0,1]\n",
    "E = EllipticCurve(E_coeffs)\n",
    "\n",
    "total = 0\n",
    "total_rank_0 = 0\n",
    "total_rank_1 = 0\n",
    "\n",
    "for D in range(0, 1600):\n",
    "    if (-1*D).is_squarefree():\n",
    "        total += 1\n",
    "\n",
    "        R.<x,y> = QQ[]\n",
    "        cubic = -1*D/4*y^2 + E_coeffs[0]*x*y - E_coeffs[2]*y - x^3 - E_coeffs[1]*x^2 - E_coeffs[3]*x - E_coeffs[4]\n",
    "        a4, a6 = WeierstrassForm(cubic, variables = [x,y])\n",
    "        ED_coeffs = [QQ(a4), QQ(a6)]\n",
    "        ED = EllipticCurve(ED_coeffs)\n",
    "        r = ED.rank(only_use_mwrank=False)\n",
    "\n",
    "        if r == 1:\n",
    "            total_rank_1 += 1\n",
    "        elif r == 0:\n",
    "            total_rank_0 += 1\n",
    "\n",
    "print('total twists = ', total)\n",
    "print('total with rank 0 = ', total_rank_0)\n",
    "print('total with rank 1 = ', total_rank_1)\n",
    "print()\n",
    "print('prop with rank 0 = ', N(total_rank_0/total))\n",
    "print('prop with rank 1 = ', N(total_rank_1/total))"
   ]
  },
  {
   "cell_type": "code",
   "execution_count": 9,
   "metadata": {},
   "outputs": [
    {
     "name": "stdout",
     "output_type": "stream",
     "text": [
      "total twists =  1096\n",
      "total with rank 0 =  544\n",
      "total with rank 1 =  462\n",
      "\n",
      "prop with rank 0 =  0.496350364963504\n",
      "prop with rank 1 =  0.421532846715328\n"
     ]
    }
   ],
   "source": [
    "E_coeffs = [0,0,0,0,1]\n",
    "E = EllipticCurve(E_coeffs)\n",
    "\n",
    "total = 0\n",
    "total_rank_0 = 0\n",
    "total_rank_1 = 0\n",
    "\n",
    "for D in range(0, 1800):\n",
    "    if (-1*D).is_squarefree():\n",
    "        total += 1\n",
    "\n",
    "        R.<x,y> = QQ[]\n",
    "        cubic = -1*D/4*y^2 + E_coeffs[0]*x*y - E_coeffs[2]*y - x^3 - E_coeffs[1]*x^2 - E_coeffs[3]*x - E_coeffs[4]\n",
    "        a4, a6 = WeierstrassForm(cubic, variables = [x,y])\n",
    "        ED_coeffs = [QQ(a4), QQ(a6)]\n",
    "        ED = EllipticCurve(ED_coeffs)\n",
    "        r = ED.rank(only_use_mwrank=False)\n",
    "\n",
    "        if r == 1:\n",
    "            total_rank_1 += 1\n",
    "        elif r == 0:\n",
    "            total_rank_0 += 1\n",
    "\n",
    "print('total twists = ', total)\n",
    "print('total with rank 0 = ', total_rank_0)\n",
    "print('total with rank 1 = ', total_rank_1)\n",
    "print()\n",
    "print('prop with rank 0 = ', N(total_rank_0/total))\n",
    "print('prop with rank 1 = ', N(total_rank_1/total))"
   ]
  },
  {
   "cell_type": "code",
   "execution_count": 10,
   "metadata": {},
   "outputs": [
    {
     "name": "stdout",
     "output_type": "stream",
     "text": [
      "total twists =  1337\n",
      "total with rank 0 =  662\n",
      "total with rank 1 =  563\n",
      "\n",
      "prop with rank 0 =  0.495138369483919\n",
      "prop with rank 1 =  0.421091997008227\n"
     ]
    }
   ],
   "source": [
    "E_coeffs = [0,0,0,0,1]\n",
    "E = EllipticCurve(E_coeffs)\n",
    "\n",
    "total = 0\n",
    "total_rank_0 = 0\n",
    "total_rank_1 = 0\n",
    "\n",
    "for D in range(0, 2200):\n",
    "    if (-1*D).is_squarefree():\n",
    "        total += 1\n",
    "\n",
    "        R.<x,y> = QQ[]\n",
    "        cubic = -1*D/4*y^2 + E_coeffs[0]*x*y - E_coeffs[2]*y - x^3 - E_coeffs[1]*x^2 - E_coeffs[3]*x - E_coeffs[4]\n",
    "        a4, a6 = WeierstrassForm(cubic, variables = [x,y])\n",
    "        ED_coeffs = [QQ(a4), QQ(a6)]\n",
    "        ED = EllipticCurve(ED_coeffs)\n",
    "        r = ED.rank(only_use_mwrank=False)\n",
    "\n",
    "        if r == 1:\n",
    "            total_rank_1 += 1\n",
    "        elif r == 0:\n",
    "            total_rank_0 += 1\n",
    "\n",
    "print('total twists = ', total)\n",
    "print('total with rank 0 = ', total_rank_0)\n",
    "print('total with rank 1 = ', total_rank_1)\n",
    "print()\n",
    "print('prop with rank 0 = ', N(total_rank_0/total))\n",
    "print('prop with rank 1 = ', N(total_rank_1/total))"
   ]
  },
  {
   "cell_type": "code",
   "execution_count": 11,
   "metadata": {},
   "outputs": [
    {
     "name": "stdout",
     "output_type": "stream",
     "text": [
      "total twists =  1460\n",
      "total with rank 0 =  721\n",
      "total with rank 1 =  614\n",
      "\n",
      "prop with rank 0 =  0.493835616438356\n",
      "prop with rank 1 =  0.420547945205479\n"
     ]
    }
   ],
   "source": [
    "E_coeffs = [0,0,0,0,1]\n",
    "E = EllipticCurve(E_coeffs)\n",
    "\n",
    "total = 0\n",
    "total_rank_0 = 0\n",
    "total_rank_1 = 0\n",
    "\n",
    "for D in range(0, 2400):\n",
    "    if (-1*D).is_squarefree():\n",
    "        total += 1\n",
    "\n",
    "        R.<x,y> = QQ[]\n",
    "        cubic = -1*D/4*y^2 + E_coeffs[0]*x*y - E_coeffs[2]*y - x^3 - E_coeffs[1]*x^2 - E_coeffs[3]*x - E_coeffs[4]\n",
    "        a4, a6 = WeierstrassForm(cubic, variables = [x,y])\n",
    "        ED_coeffs = [QQ(a4), QQ(a6)]\n",
    "        ED = EllipticCurve(ED_coeffs)\n",
    "        r = ED.rank(only_use_mwrank=False)\n",
    "\n",
    "        if r == 1:\n",
    "            total_rank_1 += 1\n",
    "        elif r == 0:\n",
    "            total_rank_0 += 1\n",
    "\n",
    "print('total twists = ', total)\n",
    "print('total with rank 0 = ', total_rank_0)\n",
    "print('total with rank 1 = ', total_rank_1)\n",
    "print()\n",
    "print('prop with rank 0 = ', N(total_rank_0/total))\n",
    "print('prop with rank 1 = ', N(total_rank_1/total))"
   ]
  },
  {
   "cell_type": "code",
   "execution_count": null,
   "metadata": {},
   "outputs": [],
   "source": []
  }
 ],
 "metadata": {
  "kernelspec": {
   "display_name": "SageMath 9.1",
   "language": "sage",
   "name": "sagemath"
  },
  "language_info": {
   "codemirror_mode": {
    "name": "ipython",
    "version": 3
   },
   "file_extension": ".py",
   "mimetype": "text/x-python",
   "name": "python",
   "nbconvert_exporter": "python",
   "pygments_lexer": "ipython3",
   "version": "3.7.3"
  }
 },
 "nbformat": 4,
 "nbformat_minor": 2
}
